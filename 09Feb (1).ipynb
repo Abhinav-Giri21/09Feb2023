{
 "cells": [
  {
   "cell_type": "code",
   "execution_count": null,
   "id": "2ad151a4-6560-4d6a-ba22-beec665cf5b3",
   "metadata": {},
   "outputs": [],
   "source": [
    "'''Q1.Create a vehicle class with an init method having instance variables as name_of_vehicle, max_speed\n",
    "and average_of_vehicle.'''\n",
    "\n",
    "class Vehicle:\n",
    "    def __init__(self,name_of_vehicle,max_speed,average_of_vehicle):\n",
    "        self.name_of_vehicle=name_of_vehicle\n",
    "        self.max_speed=max_speed\n",
    "        self.average_of_vehicle=average_of_vehicle\n",
    "        \n",
    "car=vehicle('Creta',220,18)"
   ]
  },
  {
   "cell_type": "code",
   "execution_count": 6,
   "id": "a53c7666-cd13-4154-b893-bbcf26550dad",
   "metadata": {},
   "outputs": [
    {
     "name": "stdout",
     "output_type": "stream",
     "text": [
      "Creta has a capacity of 5\n"
     ]
    }
   ],
   "source": [
    "'''Q2. Create a child class car from the vehicle class created in Que 1, which will inherit the vehicle class.\n",
    "Create a method named seating_capacity which takes capacity as an argument and returns the name of\n",
    "the vehicle and its seating capacity.'''\n",
    "\n",
    "class Vehicle:\n",
    "    def __init__(self,name_of_vehicle,max_speed,average_of_vehicle):\n",
    "        self.name_of_vehicle=name_of_vehicle\n",
    "        self.max_speed=max_speed\n",
    "        self.average_of_vehicle=average_of_vehicle\n",
    "        \n",
    "class Car(Vehicle):\n",
    "    def __init__(self,name_of_vehicle,max_speed,average_of_vehicle):\n",
    "        self.name_of_vehicle=name_of_vehicle\n",
    "        self.max_speed=max_speed\n",
    "        self.average_of_vehicle=average_of_vehicle\n",
    "        \n",
    "    def seating(self,capacity):\n",
    "        return f\"{self.name_of_vehicle} has a capacity of {capacity}\"\n",
    "        \n",
    "\n",
    "cap=Car('Creta',220,18)\n",
    "print(cap.seating(5))"
   ]
  },
  {
   "cell_type": "code",
   "execution_count": 7,
   "id": "581ab1cc-1591-41db-ad2e-d54327fa7067",
   "metadata": {},
   "outputs": [
    {
     "name": "stdout",
     "output_type": "stream",
     "text": [
      "this is my class 1\n",
      "this is my class 2\n"
     ]
    }
   ],
   "source": [
    "'''Q3.What is multiple inheritance?Write a python code to demonstrate multiple inheritance.\n",
    "Ans.When a class is derived from more than one base class it is called multiple Inheritance. \n",
    "     The derived class inherits all the features of the base case.'''\n",
    "\n",
    "class class1:\n",
    "    def test_class1(self) : \n",
    "        print(\"this is my class 1\" )\n",
    "        \n",
    "class class2 :\n",
    "    def test_class2(self) : \n",
    "        print(\"this is my class 2\")\n",
    "        \n",
    "class class3(class1 , class2) : \n",
    "    pass\n",
    "\n",
    "obj_class3=class3()\n",
    "obj_class3.test_class1()\n",
    "obj_class3.test_class2()"
   ]
  },
  {
   "cell_type": "code",
   "execution_count": 2,
   "id": "990d9ca4-f1c4-44c3-974c-939d46670d42",
   "metadata": {},
   "outputs": [
    {
     "name": "stdout",
     "output_type": "stream",
     "text": [
      "21\n",
      "21\n"
     ]
    }
   ],
   "source": [
    "'''Q4. What are getter and setter in python? Create a class and create a getter and a setter method in this\n",
    "class.\n",
    "\n",
    "Ans.Use of getters and setters in object-oriented programs is to ensure data encapsulation. \n",
    "    We use getters & setters to add validation logic around getting and setting a value.'''\n",
    "class Name:\n",
    "    def __init__(self, age = 0):\n",
    "         self._age = age\n",
    "      \n",
    "    def get_age(self):\n",
    "        return self._age\n",
    "      \n",
    "    def set_age(self, x):\n",
    "        self._age = x\n",
    "  \n",
    "Abhinav=Name()\n",
    "Abhinav.set_age(21)\n",
    "print(Abhinav.get_age())  \n",
    "print(Abhinav._age)\n",
    "\n"
   ]
  },
  {
   "cell_type": "code",
   "execution_count": 7,
   "id": "eda5dbfe-37b4-4147-a9b9-b3011e68f941",
   "metadata": {},
   "outputs": [
    {
     "name": "stdout",
     "output_type": "stream",
     "text": [
      "Inside Parent\n",
      "Inside Child\n"
     ]
    }
   ],
   "source": [
    "'''Q5.What is method overriding in python? Write a python code to demonstrate method overriding.\n",
    "\n",
    "Ans.Method overriding is an ability of any object-oriented programming language that allows a subclass or child class to provide a \n",
    "    specific implementation of a method that is already provided by one of its super-classes or parent classes.'''\n",
    "\n",
    "class Parent():\n",
    "\tdef __init__(self):\n",
    "\t\tself.value = \"Inside Parent\"\n",
    "\tdef show(self):\n",
    "\t\tprint(self.value)\n",
    "\t\t\n",
    "class Child(Parent):\n",
    "\tdef __init__(self):\n",
    "\t\tself.value = \"Inside Child\"\n",
    "\tdef show(self):\n",
    "\t\tprint(self.value)\n",
    "obj1=Parent()\n",
    "obj2=Child()\n",
    "\n",
    "obj1.show()\n",
    "obj2.show()"
   ]
  }
 ],
 "metadata": {
  "kernelspec": {
   "display_name": "Python 3 (ipykernel)",
   "language": "python",
   "name": "python3"
  },
  "language_info": {
   "codemirror_mode": {
    "name": "ipython",
    "version": 3
   },
   "file_extension": ".py",
   "mimetype": "text/x-python",
   "name": "python",
   "nbconvert_exporter": "python",
   "pygments_lexer": "ipython3",
   "version": "3.10.8"
  }
 },
 "nbformat": 4,
 "nbformat_minor": 5
}
